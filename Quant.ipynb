{
 "cells": [
  {
   "cell_type": "markdown",
   "metadata": {},
   "source": [
    "## Load libraries"
   ]
  },
  {
   "cell_type": "code",
   "execution_count": 2,
   "metadata": {},
   "outputs": [
    {
     "name": "stdout",
     "output_type": "stream",
     "text": [
      "Libraries loaded!\n"
     ]
    }
   ],
   "source": [
    "# Start with loading all necessary libraries\n",
    "import numpy as np\n",
    "\n",
    "import pandas as pd\n",
    "from pandas.io.json import json_normalize\n",
    "\n",
    "import json\n",
    "print(\"Libraries loaded!\")"
   ]
  },
  {
   "cell_type": "markdown",
   "metadata": {},
   "source": [
    "## Load dataset"
   ]
  },
  {
   "cell_type": "code",
   "execution_count": 41,
   "metadata": {},
   "outputs": [],
   "source": [
    "# Create URL to JSON file (alternatively this can be a filepath)\n",
    "filename = 'booking4532.json'\n",
    "\n",
    "with open(filename, \"r\") as read_file:\n",
    "    data = json.load(read_file)\n",
    "#data[0]\n",
    "#data=json_normalize(data)\n",
    "#data=json.dumps(data)"
   ]
  },
  {
   "cell_type": "code",
   "execution_count": 40,
   "metadata": {},
   "outputs": [
    {
     "name": "stdout",
     "output_type": "stream",
     "text": [
      "debtor_dbid 1228\n",
      "treating_doctor DR JE KOTZE\n",
      "treating_doctor_id 4\n",
      "create_date 2018-06-01 16:10:48.403908\n",
      "treatment_date 2018-06-01\n",
      "patient_dbid 1\n",
      "service_center_id 1\n",
      "service_center ROOMS - KAMERS\n",
      "booking_id 4532\n",
      "code E78.2\n",
      "description Mixed hyperlipidaemia\n",
      "icd10_codes []\n",
      "entity_id 1\n",
      "id 13473\n",
      "create_date 2018-06-01T16:10:29.844818\n",
      "description GENERAL EXAMINATION\n"
     ]
    }
   ],
   "source": [
    "patient=data[0]\n",
    "for key, value in patient.items():\n",
    "    if key=='meta_data':\n",
    "        for metaDataKey, metaDataValue in value.items():\n",
    "            print(metaDataKey, metaDataValue)\n",
    "    elif key=='invoice_diagnosis':\n",
    "        for invoiceKey, invoiceValue in value[0].items():\n",
    "            print(invoiceKey, invoiceValue)\n",
    "    elif key!='stages' and key!='invoice_id':\n",
    "        print(key, value)"
   ]
  },
  {
   "cell_type": "code",
   "execution_count": 30,
   "metadata": {},
   "outputs": [
    {
     "name": "stdout",
     "output_type": "stream",
     "text": [
      "hba1c 4.8\n",
      "glucose None\n",
      "ldl 3.83\n",
      "glu N/A\n",
      "ph N/A\n",
      "ket N/A\n",
      "ubg N/A\n",
      "sg N/A\n",
      "leu N/A\n",
      "ery N/A\n",
      "pro N/A\n",
      "bil N/A\n",
      "nit N/A\n",
      "other None\n",
      "urate_test 0.49\n",
      "tsh 1.83\n",
      "fasting_glucose False\n",
      "hdl 0.86\n",
      "triglycerides 8.9\n",
      "total_chol 8.1\n",
      "symptoms []\n",
      "...............................................\n",
      "blood_pressure_medicine None\n",
      "framingham 16\n",
      "pulse 76\n",
      "height 175\n",
      "waist_hip_ratio 0\n",
      "bmi 29.06\n",
      "framingham_msg High Risk 13 to 17 (<30%)\n",
      "immunizations None\n",
      "blood_pressure_diastolic 76\n",
      "immunizations_notes None\n",
      "blood_pressure_systolic 126\n",
      "weight 89\n",
      "images []\n",
      "...............................................\n",
      "Jaundice \n",
      "Anaemia (Pallor) \n",
      "Clubbing and Spooning \n",
      "Cyanosis \n",
      "Oedema \n",
      "Lymphadenopathy \n",
      "Dehydration \n",
      "complaint Familiele hipercholesterolemie!! 1993 laas pille geneem.\n",
      "Gout\n",
      "Lewer ensieme is verhoog!\n",
      "...............................................\n",
      "code E78.2\n",
      "morphology False\n",
      "pmb False\n",
      "description Mixed hyperlipidaemia\n",
      "icd10_codes []\n",
      "dagger False\n",
      "gender None\n",
      "asterix False\n",
      "clinical_procedures []\n",
      "...............................................\n",
      "code 0190\n",
      "description New and established patient: Co\n",
      "quantity 1\n",
      "procedures []\n",
      "...............................................\n",
      "general_notes Herhaal PSA, Lipogram, ALT, GGT en Uraat oor 3 maande!!\n",
      "...............................................\n",
      "consumables []\n",
      "...............................................\n"
     ]
    }
   ],
   "source": [
    "stages=data[0]['stages']\n",
    "for i in range(len(stages)):\n",
    "    for key, value in stages[i].items():\n",
    "        if key=='data':\n",
    "                patientData=value\n",
    "                for k, v in patientData.items():\n",
    "                    if k=='jaccold':\n",
    "                        for element in range(len(v[\"items\"])):\n",
    "                            print(v[\"items\"][element][\"description\"],v[\"items\"][element][\"value\"])\n",
    "                    elif k=='vital_measurements' or k=='sideroom_investigations' or k=='consultation':\n",
    "                        for VitalKey,VitalValue in v.items():\n",
    "                            if VitalKey=='urinedipstix':\n",
    "                                for UrineKey,UrineValue in VitalValue.items():\n",
    "                                    print(UrineKey,UrineValue[\"selected_option\"])\n",
    "                            else:\n",
    "                                print(VitalKey, VitalValue) \n",
    "                    elif k=='icd10':\n",
    "                        for VitalKey,VitalValue in v[0].items():\n",
    "                            print(VitalKey,VitalValue)\n",
    "                    elif k!='patient' and k!='systems':\n",
    "                        print(k,v) \n",
    "                        print(\"...............................................\")\n",
    "        elif key!='patient' and key!='finalized' and key!='triggerdone' and key!='description' and key!='depends' and key!='id':\n",
    "            print(key, value)\n",
    "            print(\"----------------\")\n",
    "            "
   ]
  },
  {
   "cell_type": "markdown",
   "metadata": {},
   "source": [
    "## Train models"
   ]
  },
  {
   "cell_type": "code",
   "execution_count": 28,
   "metadata": {},
   "outputs": [],
   "source": [
    "#svc = SVC()\n",
    "#svc.fit(X_train, y_train)\n",
    "\n",
    "#knn = KNeighborsClassifier()\n",
    "#knn.fit(X_train, y_train) \n",
    "\n",
    "#dt = DecisionTreeClassifier()\n",
    "#dt.fit(X_train, y_train) \n",
    "\n",
    "#nb= GaussianNB()\n",
    "#nb.fit(X_train, y_train) "
   ]
  },
  {
   "cell_type": "markdown",
   "metadata": {},
   "source": [
    "## Predict"
   ]
  },
  {
   "cell_type": "code",
   "execution_count": null,
   "metadata": {},
   "outputs": [],
   "source": [
    "#nb.predict(X_test)"
   ]
  },
  {
   "cell_type": "code",
   "execution_count": null,
   "metadata": {},
   "outputs": [],
   "source": [
    "#nb.score(X_test, y_test)"
   ]
  },
  {
   "cell_type": "code",
   "execution_count": null,
   "metadata": {},
   "outputs": [],
   "source": [
    "#cross_val_score(nb, X,y, cv=5)"
   ]
  },
  {
   "cell_type": "code",
   "execution_count": null,
   "metadata": {},
   "outputs": [],
   "source": [
    "#np.mean(cross_val_score(nb, X, y, cv=5))"
   ]
  }
 ],
 "metadata": {
  "kernelspec": {
   "display_name": "Python 3",
   "language": "python",
   "name": "python3"
  }
 },
 "nbformat": 4,
 "nbformat_minor": 1
}
